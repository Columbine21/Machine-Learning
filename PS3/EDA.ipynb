{
 "cells": [
  {
   "cell_type": "markdown",
   "metadata": {},
   "source": [
    "# 探索性数据分析"
   ]
  },
  {
   "cell_type": "markdown",
   "metadata": {},
   "source": [
    "本次实验要求我们利用给定的 8000 个英文名字，训练一个循环神经网络，完成对于任意给定的名字前缀生成（补全）给定的名字。为了更好的完成我们的任务，我们应首先考虑完成一下内容：\n",
    "\n",
    "1. 构造数据集，将所有人命数据存储到 list 中\n",
    "\n",
    "2. 简单使用 nltk 判断一下有没有名字重复"
   ]
  },
  {
   "cell_type": "code",
   "execution_count": 9,
   "metadata": {},
   "outputs": [],
   "source": [
    "import os\n",
    "from typing import List, Tuple, Dict\n",
    "\n",
    "def build_dataset(files_list=['data/female.txt',\n",
    "                              'data/male.txt']) -> List[str]:\n",
    "    dataset = []\n",
    "    for file_path in files_list:\n",
    "        with open(file_path) as file:\n",
    "            for line in file.readlines():\n",
    "                if not line.startswith('# ') and len(line.strip()) > 0:\n",
    "                    dataset.append(line.strip())\n",
    "    return dataset\n",
    "\n",
    "nameSet = build_dataset()"
   ]
  },
  {
   "cell_type": "code",
   "execution_count": 13,
   "metadata": {},
   "outputs": [
    {
     "name": "stdout",
     "output_type": "stream",
     "text": [
      "7944\n"
     ]
    }
   ],
   "source": [
    "print(len(nameSet))"
   ]
  },
  {
   "cell_type": "code",
   "execution_count": 14,
   "metadata": {
    "collapsed": true
   },
   "outputs": [],
   "source": [
    "from nltk.probability import FreqDist"
   ]
  },
  {
   "cell_type": "code",
   "execution_count": 15,
   "metadata": {
    "collapsed": true
   },
   "outputs": [],
   "source": [
    "fdist = FreqDist(nameSet)"
   ]
  },
  {
   "cell_type": "code",
   "execution_count": 18,
   "metadata": {},
   "outputs": [
    {
     "name": "stdout",
     "output_type": "stream",
     "text": [
      "[('Gale', 3), ('Abbey', 2), ('Abbie', 2), ('Abby', 2), ('Addie', 2), ('Adrian', 2), ('Adrien', 2), ('Ajay', 2), ('Alex', 2), ('Alexis', 2), ('Alfie', 2), ('Ali', 2), ('Alix', 2), ('Allie', 2), ('Allyn', 2), ('Andie', 2), ('Andrea', 2), ('Andy', 2), ('Angel', 2), ('Angie', 2), ('Ariel', 2), ('Ashley', 2), ('Aubrey', 2), ('Augustine', 2), ('Austin', 2), ('Averil', 2), ('Barrie', 2), ('Barry', 2), ('Beau', 2), ('Bennie', 2), ('Benny', 2), ('Bernie', 2), ('Bert', 2), ('Bertie', 2), ('Bill', 2), ('Billie', 2), ('Billy', 2), ('Blair', 2), ('Blake', 2), ('Bo', 2), ('Bobbie', 2), ('Bobby', 2), ('Brandy', 2), ('Brett', 2), ('Britt', 2), ('Brook', 2), ('Brooke', 2), ('Brooks', 2), ('Bryn', 2), ('Cal', 2)]\n"
     ]
    }
   ],
   "source": [
    "tops=fdist.most_common(50)\n",
    "print(tops)"
   ]
  },
  {
   "cell_type": "code",
   "execution_count": null,
   "metadata": {
    "collapsed": true
   },
   "outputs": [],
   "source": []
  }
 ],
 "metadata": {
  "kernelspec": {
   "display_name": "Python 3",
   "language": "python",
   "name": "python3"
  },
  "language_info": {
   "codemirror_mode": {
    "name": "ipython",
    "version": 3
   },
   "file_extension": ".py",
   "mimetype": "text/x-python",
   "name": "python",
   "nbconvert_exporter": "python",
   "pygments_lexer": "ipython3",
   "version": "3.6.3"
  }
 },
 "nbformat": 4,
 "nbformat_minor": 2
}
